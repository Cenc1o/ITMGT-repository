{
 "cells": [
  {
   "cell_type": "markdown",
   "id": "2e760c62",
   "metadata": {},
   "source": [
    "#### Prompt:\n",
    "You are an analyst for a premium travel agency. The company has tasked you to analyze the recent bookings they had with some of their clients. Each row represents the transaction of a person of interest (POI) in the company. Some details regarding the POI is also given, such as which luxury group they are from, as well as their individual net worth. Most importantly, you also know their __`route`__ which displays the order of their travels from different points A to E. \n",
    "\n",
    "A sample route of __`EBDAC`__ means that:\n",
    "1. From starting point E, they went to point B.\n",
    "2. From point B, they went to point D.\n",
    "3. From point D, they went to point A.\n",
    "4. From point A, they went to ending point C.\n",
    "\n",
    "#### You are tasked to come up with the following:\n",
    "1. How many POIs are there in each group?\n",
    "2. Using the __`route_matrix.json`__ file, calculate each POI's travel expenditure.\n",
    "3. Due to company policy, add a column named __`budget`__ to denote if a person is overbudget (if their travel expenses go over 5% of their net worth). If they are overbudget, place them as \"Over Budget\"; else, place them as \"Within Budget\".\n",
    "4. Which group has the __highest average net worth__?\n",
    "5. Which group has the __highest % of people who are Over Budget__?\n",
    "6. Which group had the most __direct flights__ from point A to point B (or from B to A)?"
   ]
  },
  {
   "cell_type": "code",
   "execution_count": null,
   "id": "28728f63",
   "metadata": {},
   "outputs": [],
   "source": [
    "# 1. How many POIs are there in each group?\n",
    "\n"
   ]
  },
  {
   "cell_type": "code",
   "execution_count": null,
   "id": "d44378c3",
   "metadata": {},
   "outputs": [],
   "source": [
    "# 2. Using the route_matrix.json file, calculate each POI's travel expenditure\n",
    "\n"
   ]
  },
  {
   "cell_type": "code",
   "execution_count": null,
   "id": "70cc2f46",
   "metadata": {},
   "outputs": [],
   "source": [
    "# 3. Due to company policy, add a column named budget to denote if a person is overbudget (if their travel expenses go over 5% of their net worth). \n",
    "# If they are overbudget, place them as \"Over Budget\"; else, place them as \"Within Budget\"\n",
    "\n",
    "\n"
   ]
  },
  {
   "cell_type": "code",
   "execution_count": null,
   "id": "7b36f057",
   "metadata": {},
   "outputs": [],
   "source": [
    "# 4. Which group has the highest average net worth?\n",
    "\n"
   ]
  },
  {
   "cell_type": "code",
   "execution_count": null,
   "id": "7d7a7008",
   "metadata": {},
   "outputs": [],
   "source": [
    "# 5. Which group has the highest % of people who are Over Budget?\n",
    "\n",
    "\n"
   ]
  },
  {
   "cell_type": "code",
   "execution_count": null,
   "id": "a55e3935",
   "metadata": {},
   "outputs": [],
   "source": [
    "# 6. Which group had the most direct flights from A to B (or from B to A)?\n",
    "\n",
    "\n"
   ]
  }
 ],
 "metadata": {
  "kernelspec": {
   "display_name": "Python 3 (ipykernel)",
   "language": "python",
   "name": "python3"
  },
  "language_info": {
   "codemirror_mode": {
    "name": "ipython",
    "version": 3
   },
   "file_extension": ".py",
   "mimetype": "text/x-python",
   "name": "python",
   "nbconvert_exporter": "python",
   "pygments_lexer": "ipython3",
   "version": "3.10.9"
  }
 },
 "nbformat": 4,
 "nbformat_minor": 5
}
